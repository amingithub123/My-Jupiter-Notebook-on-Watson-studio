{
 "cells": [
  {
   "cell_type": "markdown",
   "metadata": {},
   "source": [
    "<center>\n",
    "    <img src=\"https://cf-courses-data.s3.us.cloud-object-storage.appdomain.cloud/IBMDeveloperSkillsNetwork-DS0105EN-SkillsNetwork/labs/Module2/images/SN_web_lightmode.png\" width=\"300\" alt=\"cognitiveclass.ai logo\"  />\n",
    "</center>\n"
   ]
  },
  {
   "cell_type": "markdown",
   "metadata": {
    "tags": []
   },
   "source": [
    "#### Add your code below following the instructions given in the course\n"
   ]
  },
  {
   "cell_type": "markdown",
   "metadata": {},
   "source": [
    "# My Jupiter Notebook in Watson Studio"
   ]
  },
  {
   "cell_type": "markdown",
   "metadata": {},
   "source": [
    "## Amin Issah\n",
    "### Desired occupation: Data scientist "
   ]
  },
  {
   "cell_type": "markdown",
   "metadata": {},
   "source": [
    "_Data science piques my interest because it enables me to examine and comprehend huge data sets and come to wise conclusions and forecasts. In today's data-driven environment, the capacity to transform raw data into useful insights is a crucial talent. I can use data science to find hidden patterns and trends in an organization's data and assist with decision-making_"
   ]
  },
  {
   "cell_type": "markdown",
   "metadata": {},
   "source": [
    "### using Two variables A and B and defining them as 4 and 2 respectively, i use the print() command to find the product of the two variables."
   ]
  },
  {
   "cell_type": "code",
   "execution_count": 3,
   "metadata": {},
   "outputs": [
    {
     "name": "stdout",
     "output_type": "stream",
     "text": [
      "8\n"
     ]
    }
   ],
   "source": [
    "A=4\n",
    "B=2\n",
    "print(A*B)"
   ]
  },
  {
   "cell_type": "markdown",
   "metadata": {},
   "source": [
    "### Horizontal Rule\n",
    "---\n",
    "### Bulleted list\n",
    "- Item 1\n",
    "- Item 2\n",
    "- Item 3\n",
    "### Numbered List\n",
    "1. First item\n",
    "2. Second item\n",
    "3. Third item\n",
    "### Image\n",
    "![image-name](https://d27p2a3djqwgnt.cloudfront.net/wp-content/uploads/2018/01/09060054/cow-354428_1280.jpg)\n",
    "### Blockquote\n",
    "example:\n",
    "> \"It is not weakness to disguise your strength if it will lead to power.\" - Robert Greene \n"
   ]
  },
  {
   "cell_type": "code",
   "execution_count": null,
   "metadata": {},
   "outputs": [],
   "source": []
  }
 ],
 "metadata": {
  "kernelspec": {
   "display_name": "Python",
   "language": "python",
   "name": "conda-env-python-py"
  },
  "language_info": {
   "codemirror_mode": {
    "name": "ipython",
    "version": 3
   },
   "file_extension": ".py",
   "mimetype": "text/x-python",
   "name": "python",
   "nbconvert_exporter": "python",
   "pygments_lexer": "ipython3",
   "version": "3.7.12"
  }
 },
 "nbformat": 4,
 "nbformat_minor": 4
}
